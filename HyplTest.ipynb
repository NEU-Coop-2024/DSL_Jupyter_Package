{
 "cells": [
  {
   "cell_type": "code",
   "execution_count": null,
   "id": "924c6c4c-906b-4c68-8563-33be5b81f800",
   "metadata": {},
   "outputs": [],
   "source": [
    "%% hypl_syntax\n",
    "(asdf) foo <- bar\n",
    "qewweqwe"
   ]
  },
  {
   "cell_type": "code",
   "execution_count": null,
   "id": "8f877e54-be04-465b-bb8e-b0b32fe54a7d",
   "metadata": {},
   "outputs": [],
   "source": [
    "x = 0;"
   ]
  },
  {
   "cell_type": "code",
   "execution_count": null,
   "id": "50af7ee3-baa7-40c1-8d47-111f6370d2fc",
   "metadata": {},
   "outputs": [],
   "source": []
  }
 ],
 "metadata": {
  "kernelspec": {
   "display_name": "Python 3 (ipykernel)",
   "language": "python",
   "name": "python3"
  },
  "language_info": {
   "codemirror_mode": {
    "name": "ipython",
    "version": 3
   },
   "file_extension": ".py",
   "mimetype": "text/x-python",
   "name": "python",
   "nbconvert_exporter": "python",
   "pygments_lexer": "ipython3",
   "version": "3.12.3"
  }
 },
 "nbformat": 4,
 "nbformat_minor": 5
}
