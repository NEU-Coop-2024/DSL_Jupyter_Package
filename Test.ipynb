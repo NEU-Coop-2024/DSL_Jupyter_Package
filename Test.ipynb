{
 "cells": [
  {
   "cell_type": "code",
   "execution_count": 1,
   "id": "74af506b-5d8e-4084-a982-71a55715dbaf",
   "metadata": {},
   "outputs": [],
   "source": [
    "%load_ext cell_magic"
   ]
  },
  {
   "cell_type": "code",
   "execution_count": 6,
   "id": "95b48bd3-d035-4380-8d00-1aac486ad194",
   "metadata": {
    "editable": true,
    "slideshow": {
     "slide_type": ""
    },
    "tags": []
   },
   "outputs": [
    {
     "name": "stdout",
     "output_type": "stream",
     "text": [
      "hello world\n"
     ]
    }
   ],
   "source": [
    "%%cell_magic\n",
    "(\"string\")\n",
    "var1\n",
    "; line comment"
   ]
  },
  {
   "cell_type": "code",
   "execution_count": 3,
   "id": "a01da4a2-5ba1-43a2-bdfd-55e1b6415ed1",
   "metadata": {},
   "outputs": [
    {
     "name": "stdout",
     "output_type": "stream",
     "text": [
      "1234\n"
     ]
    }
   ],
   "source": [
    "print('1234')\n",
    "def int():\n",
    "    P = 1;\n",
    "    x = 2;\n",
    "    y = 3;\n",
    "    int = 4;\n",
    "    print(P + x + y + int);"
   ]
  },
  {
   "cell_type": "code",
   "execution_count": 4,
   "id": "406b7990-b8c8-4ec7-a60f-07b3987619ae",
   "metadata": {},
   "outputs": [
    {
     "name": "stdout",
     "output_type": "stream",
     "text": [
      "10\n"
     ]
    }
   ],
   "source": [
    "int()"
   ]
  },
  {
   "cell_type": "code",
   "execution_count": null,
   "id": "7f43ff4d-62ec-44c2-aad7-a97a89bb0a9a",
   "metadata": {},
   "outputs": [],
   "source": []
  }
 ],
 "metadata": {
  "kernelspec": {
   "display_name": "Python 3 (ipykernel)",
   "language": "python",
   "name": "python3"
  },
  "language_info": {
   "codemirror_mode": {
    "name": "ipython",
    "version": 3
   },
   "file_extension": ".py",
   "mimetype": "text/x-python",
   "name": "python",
   "nbconvert_exporter": "python",
   "pygments_lexer": "ipython3",
   "version": "3.12.3"
  }
 },
 "nbformat": 4,
 "nbformat_minor": 5
}
