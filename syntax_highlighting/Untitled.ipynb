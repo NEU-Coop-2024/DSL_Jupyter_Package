{
 "cells": [
  {
   "cell_type": "code",
   "execution_count": null,
   "id": "9c91e4e8-4f80-4e92-bda0-cd9d9167a678",
   "metadata": {},
   "outputs": [],
   "source": [
    "(qdwqdw) <-q jjiqdwij\n",
    "(fwqfwwqf) fw <- faqwfqwf"
   ]
  },
  {
   "cell_type": "code",
   "execution_count": null,
   "id": "9140d0e6-281f-4a37-82c3-afda72cddbec",
   "metadata": {},
   "outputs": [],
   "source": [
    "fewqdqfergwfq <-"
   ]
  }
 ],
 "metadata": {
  "kernelspec": {
   "display_name": "Python 3 (ipykernel)",
   "language": "python",
   "name": "python3"
  },
  "language_info": {
   "codemirror_mode": {
    "name": "ipython",
    "version": 3
   },
   "file_extension": ".py",
   "mimetype": "text/x-python",
   "name": "python",
   "nbconvert_exporter": "python",
   "pygments_lexer": "ipython3",
   "version": "3.12.3"
  }
 },
 "nbformat": 4,
 "nbformat_minor": 5
}
